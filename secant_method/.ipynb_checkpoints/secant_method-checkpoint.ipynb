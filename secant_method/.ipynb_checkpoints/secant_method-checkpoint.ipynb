{
 "cells": [
  {
   "cell_type": "code",
   "execution_count": null,
   "id": "c1d2d330",
   "metadata": {},
   "outputs": [],
   "source": [
    "# Tejas Acharya\n",
    "# EE-541\n",
    "# Homework 01\n",
    "# Problem 03"
   ]
  },
  {
   "cell_type": "code",
   "execution_count": null,
   "id": "859f3b22",
   "metadata": {},
   "outputs": [],
   "source": [
    "#Importing Libraries\n",
    "import sys\n",
    "from func import f"
   ]
  },
  {
   "cell_type": "code",
   "execution_count": null,
   "id": "89eee14d",
   "metadata": {},
   "outputs": [],
   "source": [
    "#Constants\n",
    "CONVERGENCE_CRITERION = 10e-10"
   ]
  },
  {
   "cell_type": "code",
   "execution_count": null,
   "id": "ced3bab6",
   "metadata": {},
   "outputs": [],
   "source": [
    "def secant_method(a, b):\n",
    "    N = 0\n",
    "    xn = None\n",
    "    xn_1 = b\n",
    "    xn_2 = a\n",
    "    while True:\n",
    "        numerator = xn_1 - xn_2\n",
    "        denominator = f(xn_1) - f(xn_2)\n",
    "        xn = xn_1 - (numerator / denominator) * f(xn_1)\n",
    "        N += 1\n",
    "        if abs(xn - xn_1) < CONVERGENCE_CRITERION :\n",
    "            break\n",
    "        xn_2 = xn_1\n",
    "        xn_1 = xn\n",
    "            \n",
    "    return (N, xn_2, xn_1, xn)"
   ]
  },
  {
   "cell_type": "code",
   "execution_count": null,
   "id": "6c1c8694",
   "metadata": {},
   "outputs": [],
   "source": [
    "def main():\n",
    "    if (len(sys.argv) != 3):\n",
    "        print('[Usage]:python3 secant_method.py a b')\n",
    "        sys.exit(1)\n",
    "    \n",
    "    try:\n",
    "        a = float(sys.argv[1])\n",
    "        b = float(sys.argv[2])\n",
    "    except:\n",
    "        sys.stderr.write('Command line arguments are not of numeric type')\n",
    "        sys.exit(1)\n",
    "    \n",
    "    if a >= b:\n",
    "        sys.stderr.write('a must be less than b')\n",
    "        sys.exit(1) \n",
    "    elif (f(a) * f(b)) >= 0:\n",
    "        sys.stderr.write('f(a) * f(b) must be less than 0')\n",
    "        sys.exit(1)\n",
    "\n",
    "    N, xn_2, xn_1, xn = secant_method(a, b)\n",
    "    print(N)\n",
    "    print(xn_2)\n",
    "    print(xn_1)\n",
    "    print(xn)\n",
    "    \n",
    "    return"
   ]
  },
  {
   "cell_type": "code",
   "execution_count": null,
   "id": "8946e35d",
   "metadata": {},
   "outputs": [],
   "source": [
    "main()"
   ]
  }
 ],
 "metadata": {
  "kernelspec": {
   "display_name": "Python 3 (ipykernel)",
   "language": "python",
   "name": "python3"
  },
  "language_info": {
   "codemirror_mode": {
    "name": "ipython",
    "version": 3
   },
   "file_extension": ".py",
   "mimetype": "text/x-python",
   "name": "python",
   "nbconvert_exporter": "python",
   "pygments_lexer": "ipython3",
   "version": "3.8.16"
  }
 },
 "nbformat": 4,
 "nbformat_minor": 5
}
